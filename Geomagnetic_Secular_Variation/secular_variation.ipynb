{
 "cells": [
  {
   "cell_type": "markdown",
   "id": "95e9cbc2-17c0-4a23-afa5-1f93296a9588",
   "metadata": {},
   "source": [
    "$\\newcommand{\\matA}{\\mathbf A}$\n",
    "$\\newcommand{\\matW}{\\mathbf W}$\n",
    "$\\newcommand{\\vecd}{\\mathbf d}$\n",
    "$\\newcommand{\\vecr}{\\mathbf r}$\n",
    "$\\newcommand{\\vecm}{\\mathbf m}$\n",
    "$\\newcommand{\\magf}{\\mathbf B}$\n",
    "$\\newcommand{\\matD}{\\mathbf D}$\n",
    "$\\newcommand{\\glm}{g_\\ell^m}$\n",
    "$\\newcommand{\\hlm}{h_\\ell^m}$\n",
    "$\\newcommand{\\slm}{s_\\ell^m}$\n",
    "$\\newcommand{\\qlm}{q_\\ell^m}$\n",
    "$\\newcommand{\\glmd}{\\dot{g}_{\\ell}^{m}}$\n",
    "$\\newcommand{\\hlmd}{\\dot{h}_{\\ell}^{m}}$\n",
    "$\\newcommand{\\qlmd}{\\dot{q}_{\\ell}^{m}}$\n",
    "$\\newcommand{\\slmd}{\\dot{s}_{\\ell}^{m}}$\n",
    "$\\newcommand{\\plm}{{\\mathcal P}_\\ell^m}$\n",
    "$\\newcommand{\\lmax}{L}$\n",
    "$\\newcommand{\\lmaxe}{{L_e}}$\n",
    "$\\newcommand{\\mitbf}[1]{\\mathbf{#1}}$\n",
    "$\\newcommand{\\grad}{\\mitbf{\\nabla}}$"
   ]
  },
  {
   "cell_type": "markdown",
   "id": "c597b674-db6a-4ed5-b885-810af394cc1b",
   "metadata": {},
   "source": [
    "# The secular variation of the Earth's magnetic field from observatory data\n",
    "\n",
    "$\\Large{Your\\ name:\\ FirstName\\ LastName}$ \n",
    "\n",
    "\n",
    "The goal of this practical is to come up with an acceptable spherical harmonic representation of the secular variation of the geomagnetic field at a given epoch, based on records from magnetic observatories. The interest of this problem is both fundamental and practical: fundamental because the secular variation reflects dynamical processes occurring inside the fluid outer core of the Earth, where the primary source of the geomagnetic field is located (the geodynamo). Practical because the knowledge of the secular variation (SV) can be used to forecast the evolution of the geomagnetic field in the near future (by means of a simple linear extrapolation).\n",
    "\n",
    " The spherical harmonic representation of the magnetic field ${\\mathbf B}$  consists of a set of\n",
    " Gauss coefficients, $(g_\\ell^m, h_\\ell^m)$ for the internal field (index $i$) and $(q_\\ell^m, s_\\ell^m)$ for the\n",
    " external field (index $e$), such that the geomagnetic potential $V$ in an insulating\n",
    " region can be written\n",
    "\\begin{eqnarray*}\n",
    "V(r,\\theta,\\varphi) &=& V_i(r,\\theta,\\varphi)+V_e(r,\\theta,\\varphi) \\\\\n",
    "                    &=& a \\sum_{\\ell=1}^{L} \n",
    "\\left( \\frac{a}{r} \\right)^{\\ell+1}\n",
    "\\sum_{m=0}^{\\ell} \n",
    "\\left[\n",
    "g_\\ell^m  \\cos \\left( m \\varphi \\right)\n",
    "+ h_\\ell^m\\sin \\left(  m \\varphi\\right)\n",
    "\\right]\n",
    "{\\mathcal P}_\\ell^m \\left( \\cos \\theta \\right) \\\\\n",
    "&+&\n",
    " a \\sum_{\\ell=1}^{L_e}\n",
    "\\left( \\frac{r}{a} \\right)^{\\ell}\n",
    "\\sum_{m=0}^{\\ell} \n",
    "\\left[q_\\ell^m \\cos \\left( m \\varphi \\right) + s_\\ell^m, \\sin \\left(  m \\varphi\\right)\\right] \n",
    "{\\mathcal P}_\\ell^m \\left( \\cos \\theta \\right), \n",
    "\\label{eq:expansion}\n",
    "\\end{eqnarray*}\n",
    "in which $(r,\\theta,\\varphi)$ denote the standard spherical coordinates, $a$ is the mean radius of the Earth ($a=6371.2$~km), $L$ is the truncation of the spherical harmonic expansion of the internal sources, and $L_e$ the truncation of the expansion of the external sources. The ${\\mathcal P}_\\ell^m$ are the associated Legendre functions of degree $\\ell$ and order $m$, whose normalization is subject to the Schmidt convention  (the one traditionally used in geomagnetism).\n",
    "\n",
    " In the insulating region of interest in what follows (between the core-mantle boundary and a few tens of km above  the surface of Earth), we have\n",
    "\\begin{equation}\n",
    "\\mathbf{B} = -\\mathbf{\\nabla} V, \\mbox{ that is } X = -B_\\theta =  \\frac{1}{r}\\frac{\\partial V}{\\partial \\theta },\n",
    "                             \\quad Y = B_\\varphi = -\\frac{1}{r\\sin\\theta}\\frac{\\partial V}{\\partial \\varphi },\n",
    "                             \\quad Z = -B_r = \\frac{\\partial V}{\\partial r }, \n",
    "\\end{equation}\n",
    "where $X$, $Y$ and $Z$ denote the north, east, and vertical components of $\\mathbf{B}$, respectively.\n",
    "The time rate-of-change of $\\mathbf{B}$, $\\dot{\\mathbf{B}}$ (a dot implies derivation with respect to time), which we are intested in, is therefore controlled by the rate of change of the Gauss coefficients, denoted with $\\left(\\dot{g_\\ell^m}, \\dot{h_\\ell^m} \\right)$ and $\\left(\\dot{q_\\ell^m}, \\dot{s_\\ell^m} \\right)$  henceforth."
   ]
  },
  {
   "cell_type": "markdown",
   "id": "dc4a0cc3-5f9d-4075-87bf-d5629e68a26d",
   "metadata": {},
   "source": [
    "## Part A - The forward problem\n",
    "\n",
    "At first, we will neglect the external field and restrict our attention to a model vector consisting of the $\\left(\\dot{g_\\ell^m}, \\dot{h_\\ell^m}  \\right)$. More precisely, we define the column vector $\\mathbf{m}$\n",
    "\\begin{equation}\n",
    "\\mathbf{m} \\equiv \\left[\\dot{g}_1^0, \\dot{g}_1^1, \\dot{h}_1^1, \\dot{g}_2^0, \\dot{g}_2^1, \n",
    "                   \\dot{h}_2^1, \\dot{g}_2^2, \\dot{h}_2^2, \n",
    "                  \\dots, \\dot{g}_L^L, \\dot{h}_L^L\\right]^T,\n",
    "\\end{equation}\n",
    "in which $T$ denotes transposition.\n"
   ]
  },
  {
   "cell_type": "markdown",
   "id": "b4e82f5d-ea10-4b42-8da4-dfc9ac5b5720",
   "metadata": {},
   "source": [
    "**Question 0:** What is the size of $\\mathbf{m}$ (as a function of $L$)?"
   ]
  },
  {
   "cell_type": "raw",
   "id": "27a57acf-9aa8-4db7-b58a-602c2f68c077",
   "metadata": {},
   "source": [
    "your answer: \n"
   ]
  },
  {
   "cell_type": "markdown",
   "id": "15f4c328-0097-42f8-aa80-75b04eb76866",
   "metadata": {},
   "source": [
    "The forward problem here refers to the mapping between this set of coefficients and a triplet of measurements of the north, east, or vertical components of the rate-of-change of the field, $\\dot{\\mathbf{B}}$,  at a location. This can be written in the algebraic form\n",
    "\\begin{equation}\n",
    "\\left[ \n",
    "\\begin{array}{c}\n",
    "\\dot{X} \\\\\n",
    "\\dot{Y} \\\\\n",
    "\\dot{Z}\n",
    "\\end{array} \\right] \n",
    "= \n",
    "\\mathbf{A} \\mathbf{m}\n",
    "=\n",
    "\\left[ \n",
    "\\begin{array}{c}\n",
    "\\mathbf{A}_X  \\\\\n",
    "\\mathbf{A}_Y  \\\\\n",
    "\\mathbf{A}_Z\n",
    "\\end{array}\n",
    "\\right]             \\mathbf{m},  \n",
    "\\end{equation}\n",
    "where each row ($\\mathbf{A}_X$,  $\\mathbf{A}_Y$ and $\\mathbf{A}_Z$) of the matrix $\\mathbf{A}$ comprises $L \\left(L+2\\right)$ columns."
   ]
  },
  {
   "cell_type": "markdown",
   "id": "1fc2637a-3038-4a67-9d19-f7e66eb6d98c",
   "metadata": {},
   "source": [
    "The python library ${\\tt SHmag.py}$ comprises a series of functions that return  ($\\mathbf{A}_X$,  $\\mathbf{A}_Y$ or $\\mathbf{A}_Z$), provided you feed them with a location in 3D space, $(r_o, \\theta_o, \\varphi_o)$ (radius in km, angles in degrees). \n",
    "For example, the piece of code below shows how the ${\\tt SHB\\_Z}$ function can be used to map a user-defined $\\mathbf{m}$ into a global map of the SV over a regular grid at radius $r=a$. "
   ]
  },
  {
   "cell_type": "code",
   "execution_count": null,
   "id": "8f045b67-59ad-40db-8b27-b7e7deb049cd",
   "metadata": {},
   "outputs": [],
   "source": [
    "%matplotlib widget\n",
    "%matplotlib inline \n",
    "#previous line to uncomment prior to exporting to pdf - make sur to rerun all cells\n",
    "import numpy as np\n",
    "from SHmag import *\n",
    "from sv_plots_cartopy import *\n",
    "\n",
    "#define regular grid\n",
    "#We give ourselves a regular grid over the sphere\n",
    "nlon = 61 # 61 points in longitude\n",
    "nlat = 31 # 31 points in colatitude\n",
    "# \n",
    "colat = np.linspace(1., 179., nlat, endpoint=True) # we exclude the poles\n",
    "longi = np.linspace(1., 359., nlon, endpoint=True)\n",
    "\n",
    "#form 1D grid\n",
    "mygrid_colat = np.zeros(nlat*nlon) # \n",
    "mygrid_longi = np.zeros(nlat*nlon) # \n",
    "mygrid_radius = np.zeros(nlat*nlon) # \n",
    "for ilat in range(0,nlat):\n",
    "    for ilon in range(0,nlon):\n",
    "        igrid = ilon + ilat*nlon\n",
    "        mygrid_colat[igrid] = colat[ilat]\n",
    "        mygrid_longi[igrid] = longi[ilon]\n",
    "# Set radius of each point to earth radius \n",
    "mygrid_radius[:] = 6371.2 # in km\n",
    "#\n",
    "#assemble design matrix for Z-component\n",
    "AZ = np.zeros( (nlat*nlon, ll*(ll+2)) )\n",
    "for igrid in range(0, nlat*nlon):\n",
    "    AZ[igrid,:] = SHB_Z(mygrid_colat[igrid], mygrid_longi[igrid], mygrid_radius[igrid])\n",
    "#define example of SV\n",
    "gh = np.zeros(ll*(ll+2)) # initialize gh array\n",
    "lm = -1\n",
    "# gh = g10, g11, h11, g20, g21, h21,...\n",
    "for il in range(1,ll+1):    # plus 1 to include ll\n",
    "    for im in range(0,il+1): # plus 1 to include il \n",
    "#       print(il, im)\n",
    "        if im == 0:\n",
    "            lm = lm+1\n",
    "            if il == 1:\n",
    "                gh[lm] = -10.0     # axial dipole\n",
    "        elif im > 0:\n",
    "            lm = lm+1\n",
    "#           the g\n",
    "            if il == 2 and im == 1: # \n",
    "                gh[lm] = -4.0\n",
    "            lm = lm+1\n",
    "#           the h\n",
    "            if il == 1 and im == 1: # equatorial dipole  \n",
    "                gh[lm] = -4.0\n",
    "            if il == 5 and im == 5:\n",
    "                gh[lm] = 3.\n",
    "#\n",
    "#compute value of SV (Z component) on regular grid\n",
    "SVZ = np.zeros( nlat*nlon ) # initialization \n",
    "\n",
    "#Compute A times m\n",
    "SVZ = np.dot(AZ, gh)\n",
    "\n",
    "mollweide_plot(SVZ, nlat, nlon, colat, longi, Title=\"Example of synthetic SV, vertical component\")"
   ]
  },
  {
   "cell_type": "markdown",
   "id": "e11ad8f7-b1bc-439c-a281-c8f00a7d6f44",
   "metadata": {},
   "source": [
    "**Question 1:** "
   ]
  },
  {
   "cell_type": "code",
   "execution_count": null,
   "id": "c191abdc-9d81-44b2-ab30-0c592fb56ce9",
   "metadata": {},
   "outputs": [],
   "source": []
  }
 ],
 "metadata": {
  "kernelspec": {
   "display_name": "Python 3",
   "language": "python",
   "name": "python3"
  },
  "language_info": {
   "codemirror_mode": {
    "name": "ipython",
    "version": 3
   },
   "file_extension": ".py",
   "mimetype": "text/x-python",
   "name": "python",
   "nbconvert_exporter": "python",
   "pygments_lexer": "ipython3",
   "version": "3.9.1"
  }
 },
 "nbformat": 4,
 "nbformat_minor": 5
}
