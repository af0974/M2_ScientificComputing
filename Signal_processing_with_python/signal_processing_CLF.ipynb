{
 "cells": [
  {
   "cell_type": "markdown",
   "id": "c5332560-02a0-49de-b7b1-04a161630ab5",
   "metadata": {},
   "source": [
    "# Basic signal processing with ${\\tt python}$"
   ]
  },
  {
   "cell_type": "markdown",
   "id": "6c30839c-8393-4321-8c2f-cbe092338878",
   "metadata": {},
   "source": [
    "Every python function is documented on the internet. google the name of the function will provide you with the link to its online description. For example, see\n",
    "[http://docs.scipy.org/doc/numpy/reference/generated/numpy.arange.html](http://docs.scipy.org/doc/numpy/reference/generated/numpy.arange.html).\n"
   ]
  },
  {
   "cell_type": "markdown",
   "id": "748eb67e-2c5c-4800-bb2b-cd68d1f7a8d5",
   "metadata": {},
   "source": [
    "## Part 1 -  A synthetic case\n",
    "1. The example below shows how to generate a synthetic timeseries between 1850.0 AD and 2010.0 AD using the ${\\tt synthetic.py}$ module, that contains a single harmonic component of period 10 yr, and is evenly sampled every 12th of a year (ie every month). "
   ]
  },
  {
   "cell_type": "code",
   "execution_count": null,
   "id": "bda644f2-35dd-4b1c-8fd0-21958e6b9431",
   "metadata": {},
   "outputs": [],
   "source": [
    "%matplotlib widget\n",
    "import matplotlib.pyplot as plt\n",
    "import numpy as np\n",
    "from synthetic import *\n",
    "\n",
    "t_start = 1850.0\n",
    "t_end = 2010.0\n",
    "t_samp = 1./12.\n",
    "\n",
    "# define synthetic time series\n",
    "mytimewindow = def_timewindow(t_start, t_end, t_samp)\n",
    "period = 10. # in yr\n",
    "amp = 1.\n",
    "phase = -2*np.pi*t_start/period\n",
    "mytseries = cos_tseries(mytimewindow, period, amp, phase)\n",
    "# plot it\n",
    "fig = plt.figure( figsize = (10, 4) ) #figsize can be adjusted to your needs\n",
    "ax = fig.add_subplot(111)\n",
    "ax.plot(mytimewindow, mytseries)\n",
    "ax.set_xlabel('year AD')\n",
    "ax.set_ylabel('signal')\n",
    "ax.set_xlim(t_start,t_end)\n",
    "ax.set_xticks(np.linspace(t_start, t_end, endpoint = True, num = int( (t_end - t_start)/10 + 1 ) ) ) \n",
    "# show the figure\n",
    "plt.show()\n"
   ]
  },
  {
   "cell_type": "markdown",
   "id": "a52f3023-fcb9-409e-9056-662f31c758ce",
   "metadata": {},
   "source": [
    "2. Your turn now: Using the python functions at your disposal in the ${\\tt synthetic.py}$ module, create a synthetic timeseries spanning the [1850.0~AD-2010.0~AD] time window (with one point every month), comprising four harmonic components, of periods $(T_1,T_2,T_3,T_4)=(0.5,1.0,11.0,60.0)$~yr, respectively. You can arbitrarily set the amplitude $A_i$ and the phase $\\varphi_i$ of each of these components. The signal $s(t)$ so created reads $$\n",
    "        s(t) = \\sum_{i=1}^{i=4} s_i(t) = \\sum_{i=1}^{i=4} A_i \\cos \\left( 2 \\pi t / T_i +\\varphi_i \\right). \n",
    "        $$"
   ]
  },
  {
   "cell_type": "code",
   "execution_count": null,
   "id": "4e248bc7-c6fd-4c1a-9cdc-078980e56d0d",
   "metadata": {},
   "outputs": [],
   "source": [
    "# write your own code below\n",
    "#\n",
    "# Define your timeseries. I would suggest to use a name different from mytseries in the example above, to avoid a source of \n",
    "# confusion between the example and your own code\n",
    "#\n",
    "\n",
    "\n",
    "\n",
    "#Plot it\n",
    "\n",
    "\n",
    "#"
   ]
  },
  {
   "cell_type": "markdown",
   "id": "fcf6bff8-fcb6-45a0-b18a-ac16c1df25bb",
   "metadata": {},
   "source": [
    "$$\\newcommand{\\fourier}[1]{\\widehat{#1}}$$\n",
    "2. We wish to perform the spectral analysis of $s(t)$ and therefore to compute its (discrete) Fourier transform. Let $\\fourier{s}(f)$ denote this transform, with $f$ the frequency (inverse of the period) - keeping in mind that the angular frequency $\\omega=2\\pi f$.To compute $\\fourier{s}$, we resort to python again, in particular to the ${\\tt fft.rfft}$ function. An example of its usage is given in the piece of code below, where the spectral analysis is performed on the harmonic example I gave above"
   ]
  },
  {
   "cell_type": "code",
   "execution_count": null,
   "id": "7fef10cc-e2bd-48b4-968a-fc033fae959a",
   "metadata": {},
   "outputs": [],
   "source": [
    "# compute its Fourier transform\n",
    "myshat = np.fft.rfft(mytseries) # \n",
    "# these are the associated frequencies (useful for subsequent plot)\n",
    "myfreq = np.fft.rfftfreq(len(mytseries),t_samp) # in year^{-1} \n",
    "# plot the timeseries and its power spectrum \n",
    "fig = plt.figure( figsize=(10,7) )\n",
    "#\n",
    "ax1 = fig.add_subplot(211)\n",
    "ax1.plot(mytimewindow, mytseries)\n",
    "ax1.set_xlabel('year AD')\n",
    "ax1.set_ylabel('signal')\n",
    "ax1.set_xlim(t_start, t_end)\n",
    "ax1.set_xticks(np.linspace(t_start, t_end, endpoint = True, num = int((t_end - t_start)/10 + 1 )))\n",
    "#\n",
    "ax2 = fig.add_subplot(212)\n",
    "ax2.loglog(myfreq, abs(myshat)**2)\n",
    "ax2.set_xlabel('frequency in yr$^{-1}$')\n",
    "ax2.set_ylabel(r'|$\\hat{s}$|$^2$')\n",
    "# show the figure\n",
    "plt.show()\n"
   ]
  },
  {
   "cell_type": "markdown",
   "id": "629c66f5-baaf-45e7-bc0f-aa729e9619f9",
   "metadata": {},
   "source": [
    "Your turn now: Adapt this example to represent the squared modulus of $\\fourier{s}(f)$"
   ]
  },
  {
   "cell_type": "code",
   "execution_count": null,
   "id": "045ad0f4-e206-45af-97df-a41bae631c79",
   "metadata": {},
   "outputs": [],
   "source": [
    "#write your own code below\n",
    "#"
   ]
  },
  {
   "cell_type": "markdown",
   "id": "a51f8973-5951-4842-b1b0-a0a72f0253ae",
   "metadata": {},
   "source": [
    "3. Now let us get acquainted with the Butterworth filters provided by the ${\\tt signal}$ processing package of scientific python. The example below shows how to apply a bandpass filter, with corner periods equal to 5 and 15 yr, to the example timeseries I have been using so far. "
   ]
  },
  {
   "cell_type": "code",
   "execution_count": null,
   "id": "383c042c-95e8-4b23-b293-e22c681ae28b",
   "metadata": {},
   "outputs": [],
   "source": [
    "from scipy import signal \n",
    "# define Butterworth filter properties\n",
    "#\n",
    "# The frequency band [w_low_cut,w_high_cut] is given as a fraction of the \n",
    "# Nyquist Frequency which is equal to half of the sampling frequency\n",
    "# \n",
    "T_long  = 15 # in yr\n",
    "T_short = 5  # in yr\n",
    "#\n",
    "f_samp = 1./t_samp\n",
    "f_nyq =  f_samp / 2\n",
    "#\n",
    "f_low_cut =  (1./T_long)  # in year^{-1}\n",
    "w_low_cut =  f_low_cut / f_nyq # angular frequency\n",
    "#\n",
    "f_high_cut = (1./T_short)  # in year^{-1}\n",
    "w_high_cut = f_high_cut / f_nyq          # angular frequency\n",
    "# define filter properties\n",
    "b,a = signal.butter(4, [w_low_cut,w_high_cut], 'band')\n",
    "# apply filter to signal (twice, to avoid phasing) \n",
    "recons = signal.filtfilt(b,a,mytseries)\n",
    "# compute its Fourier transform\n",
    "myreconshat = np.fft.rfft(recons)\n",
    "#\n",
    "# plot the timeseries and its power spectrum, as well as those\n",
    "# of the filtered signal \n",
    "fig = plt.figure( figsize = (10, 7) )\n",
    "#\n",
    "ax1 = fig.add_subplot(211)\n",
    "ax1.plot(mytimewindow, mytseries)\n",
    "ax1.plot(mytimewindow, recons)\n",
    "ax1.set_xlabel('year AD')\n",
    "ax1.set_ylabel('signal')\n",
    "ax1.set_xlim(t_start,t_end)\n",
    "ax1.set_xticks(np.linspace(t_start, t_end, endpoint = True, num = int( (t_end - t_start)/10 + 1 )) )\n",
    "#\n",
    "ax2 = fig.add_subplot(212)\n",
    "ax2.loglog(myfreq, abs(myshat)**2, label=\"original\")\n",
    "ax2.loglog(myfreq, abs(myreconshat)**2, label=\"filtered\")\n",
    "ax2.set_xlabel('frequency in yr$^{-1}$')\n",
    "ax2.set_ylabel(r'|$\\hat{s}$|$^2$')\n",
    "ax2.legend()\n",
    "# show the figure\n",
    "plt.show()"
   ]
  },
  {
   "cell_type": "markdown",
   "id": "ea0f8087-5c44-40d3-9973-5d0c15f7bd0b",
   "metadata": {},
   "source": [
    "Your turn now: extract in $s(t)$ the $11$-yr component. Plot the filtered signal against the original one, and compare as well its spectrum to the original one."
   ]
  },
  {
   "cell_type": "code",
   "execution_count": null,
   "id": "692ee045-d4ac-4d8a-b270-5b22beec57d1",
   "metadata": {},
   "outputs": [],
   "source": [
    "# Write your code below\n",
    "#\n",
    "#"
   ]
  },
  {
   "cell_type": "markdown",
   "id": "4b397d1a-cd8d-4804-8426-6d14dedf016f",
   "metadata": {},
   "source": [
    "4. By looking at the manual page of ${\\tt scipy.signal.filtfilt}$, the default version of which we use, suggest a way of improving the reconstruction of the sought harmonic component. This improvement can follow from the artificial augmentation of the length of the timeseries (padding it with zeroes), which tends to mitigate spurious edge effects on the filtered signal."
   ]
  },
  {
   "cell_type": "code",
   "execution_count": null,
   "id": "d243cf2c-1b4a-480c-b42f-90a1d1ab9218",
   "metadata": {},
   "outputs": [],
   "source": [
    "# Write your answer here (code not necessarily needed)\n",
    "#"
   ]
  },
  {
   "cell_type": "markdown",
   "id": "788b6e88-3269-40ab-950f-20f341904e6f",
   "metadata": {},
   "source": [
    "## Part 2 - A real case: 78 years of geomagnetic measurements @ CLF\n",
    "\n",
    "CLF : Chambon-la-Forêt, where the French magnetic observatory is located since 1936. See e.g. [www.bcmt.fr](http://www.bcmt.fr). \n",
    "\n",
    "The file ${\\tt clf1936-2014.dat}$ contains the monthly means of the geomagnetic elements recorded at the CLF observatory. \n",
    "The header of the file looks like so\n",
    "~~~~\n",
    "# This file is provided by the database of the \"Bureau Central de   |\n",
    "# Magnetisme Terrestre\" (BCMT, France).                             |\n",
    "# Conditions of use: these data are for scientific/academic use.    |\n",
    "# Formula for computing non-reported elements:                      |\n",
    "# X=H*cos(D), Y=H*sin(D), tan(I)=Z/H                                |\n",
    "# D is expressed in minutes of arc.                                 |\n",
    "# 1-month values are computed from 24 monthly means of 1-hour       |\n",
    "# values.                                                           |\n",
    "# For any enquiry, please contact: bcmt@ipgp.fr                     |\n",
    "#DATE       TIME        DOY     CLFH      CLFD      CLFZ      CLFF  \n",
    "~~~~"
   ]
  },
  {
   "cell_type": "markdown",
   "id": "9847aeec-15a3-43cb-8407-ec853003e249",
   "metadata": {},
   "source": [
    "1. The code below reads the file and and plots the fluctuations of the vertical component ($Z$) at the site between 1936.0 and 2015.0. "
   ]
  },
  {
   "cell_type": "code",
   "execution_count": null,
   "id": "8e003d3c-e912-441a-8218-fe676bfeb862",
   "metadata": {},
   "outputs": [],
   "source": [
    "import matplotlib.dates as dts\n",
    "import time\n",
    "\n",
    "datestr2num = lambda s: dts.datestr2num(s.decode('ascii'))\n",
    "#\n",
    "fname = 'clf1936-2014.dat'\n",
    "#\n",
    "#\n",
    "data = np.loadtxt(fname, usecols=(0,3,4,5,6), converters={0:datestr2num})\n",
    "#\n",
    "epoch = data[:,0]\n",
    "decl = data[:,2]/60. # declination expressed in degrees\n",
    "zcomp = data[:,3]\n",
    "#\n",
    "years = dts.YearLocator()   # every year\n",
    "months = dts.MonthLocator()  # every month\n",
    "yearsFmt = dts.DateFormatter('%Y') # format for a year\n",
    "#\n",
    "# Plot timeseries of Z\n",
    "fig = plt.figure(figsize=(8,5))\n",
    "ax = fig.add_subplot(111)\n",
    "ax.plot(epoch,zcomp,'k+')\n",
    "# format the ticks\n",
    "ax.xaxis.set_minor_locator(years)\n",
    "ax.xaxis.set_major_formatter(yearsFmt)\n",
    "datemin = dts.datestr2num('1936-01-01')\n",
    "datemax = dts.datestr2num('2016-01-01')\n",
    "ax.set_xlim(datemin, datemax)\n",
    "ax.set_xticks(np.arange(datemin,datemax,1826))\n",
    "ax.set_xlabel('year AD')\n",
    "ax.set_ylabel('$Z$ (nT)')\n",
    "fig.tight_layout()\n",
    "plt.show()"
   ]
  },
  {
   "cell_type": "markdown",
   "id": "7b70e0ed-14ec-44e0-8e0b-a57c3a3e6bf1",
   "metadata": {},
   "source": [
    "Write your own code to compute and plot $X(t)$ @ CLF, $X$ being the Northward component, whose connection with the horizontal component and the declination is given in the header above. "
   ]
  },
  {
   "cell_type": "code",
   "execution_count": null,
   "id": "2a0b43c7-cd45-4fa3-976c-38f45048bd22",
   "metadata": {},
   "outputs": [],
   "source": [
    "# your code below\n",
    "#"
   ]
  },
  {
   "cell_type": "markdown",
   "id": "1dacc5ea-9ac5-4d3f-90bc-a9858ffe63fa",
   "metadata": {},
   "source": [
    "2. Based on the expertise you gained in the first synthetic part of this lab, write a code that, in addition to plotting $X(t)$, computes $\\fourier{X}(f)$ and plots the power spectral density of $X$. It is recommended to have $X(t)$ and $|\\fourier{X}|^2(f)$ on the same plot (with two graphs). "
   ]
  },
  {
   "cell_type": "code",
   "execution_count": null,
   "id": "5858bc69-bdf6-4764-85aa-0b1a4029b4cf",
   "metadata": {},
   "outputs": [],
   "source": [
    "#your code below\n",
    "#"
   ]
  },
  {
   "cell_type": "markdown",
   "id": "9a17cb93-0702-4f16-88e3-057f1690477e",
   "metadata": {},
   "source": [
    "3. Analyze the spectrum so obtained. Are there any obvious peaks? Which periods do they correspond to? Can you make sense of them? "
   ]
  },
  {
   "cell_type": "code",
   "execution_count": null,
   "id": "936b5a36-128b-46e3-81ff-f9bebeee7113",
   "metadata": {},
   "outputs": [],
   "source": [
    "Your answer: "
   ]
  },
  {
   "cell_type": "markdown",
   "id": "a93fa6ea-2514-47e8-b127-660463ac1da3",
   "metadata": {},
   "source": [
    "4. Write another piece of code to filter out the long-period component of $X(t)$, with periods greater than 15~years, say. Plot the original $X(t)$ and its filtered version $X'(t)$ on one graph, and the spectra of $|\\fourier{X}|^2(f)$ and $|\\fourier{X'}|^2(f)$ on a second graph (both graphs on the same plot). "
   ]
  },
  {
   "cell_type": "code",
   "execution_count": null,
   "id": "9c2a8c12-091e-46ad-8b42-b259c3cc5a4d",
   "metadata": {},
   "outputs": [],
   "source": [
    "#your code below\n",
    "#"
   ]
  },
  {
   "cell_type": "markdown",
   "id": "58c0bffc-e931-420f-9531-331bf67e91bd",
   "metadata": {},
   "source": [
    "5. The file ${\\tt SN.dat}$ contains monthly values of the sunspot number (a proxy for solar activity) between 1749 and 2016. Read it and plot it against $X'$ (one graph per signal, two graphs on the same plot), for that period of time during which there is data for both (1936--2015). "
   ]
  },
  {
   "cell_type": "code",
   "execution_count": null,
   "id": "6ae9642e-2942-452c-b026-47ac5562ba59",
   "metadata": {},
   "outputs": [],
   "source": [
    "#your code below\n",
    "#"
   ]
  },
  {
   "cell_type": "markdown",
   "id": "3c4ab2ba-da08-4152-a2c4-191014d16b5a",
   "metadata": {},
   "source": [
    "6. Is there a connection between the two? If yes, propose an interpretation. "
   ]
  },
  {
   "cell_type": "raw",
   "id": "9d0a9d2b-383a-428c-968b-3513a0fda5fa",
   "metadata": {},
   "source": [
    "Your answer: "
   ]
  },
  {
   "cell_type": "markdown",
   "id": "ff4a3e4b-eacf-4c7c-96ca-737fe88fb380",
   "metadata": {},
   "source": [
    "**Bonus**: compute and plot the power spectrum density based on the entire sunspot number \n",
    "      timeseries."
   ]
  },
  {
   "cell_type": "code",
   "execution_count": null,
   "id": "64369121-0583-479c-8fa6-fec5c56ca8e6",
   "metadata": {},
   "outputs": [],
   "source": [
    "#your code below"
   ]
  }
 ],
 "metadata": {
  "kernelspec": {
   "display_name": "Python 3",
   "language": "python",
   "name": "python3"
  },
  "language_info": {
   "codemirror_mode": {
    "name": "ipython",
    "version": 3
   },
   "file_extension": ".py",
   "mimetype": "text/x-python",
   "name": "python",
   "nbconvert_exporter": "python",
   "pygments_lexer": "ipython3",
   "version": "3.9.1"
  }
 },
 "nbformat": 4,
 "nbformat_minor": 5
}
