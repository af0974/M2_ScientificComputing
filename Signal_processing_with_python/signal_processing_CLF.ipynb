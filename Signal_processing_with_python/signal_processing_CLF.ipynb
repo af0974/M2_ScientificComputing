{
 "cells": [
  {
   "cell_type": "markdown",
   "id": "c96805ae",
   "metadata": {},
   "source": [
    "# Basic signal processing with ${\\tt python}$\n",
    "\n",
    "$\\Large{Your\\ name:\\ FirstName\\ LastName}$ \n"
   ]
  },
  {
   "cell_type": "markdown",
   "id": "0d48b9f9",
   "metadata": {},
   "source": [
    "Every python function is documented on the internet. google the name of the function will provide you with the link to its online description. For example, see\n",
    "[http://docs.scipy.org/doc/numpy/reference/generated/numpy.arange.html](http://docs.scipy.org/doc/numpy/reference/generated/numpy.arange.html).\n"
   ]
  },
  {
   "cell_type": "markdown",
   "id": "d1e9ab30",
   "metadata": {},
   "source": [
    "## Part 1 -  A synthetic case\n",
    "1. The example below shows how to generate a synthetic timeseries between 1850.0 AD and 2010.0 AD using the ${\\tt synthetic.py}$ module, that contains a single harmonic component of period 10 yr, and is evenly sampled every 12th of a year (ie every month). "
   ]
  },
  {
   "cell_type": "code",
   "execution_count": null,
   "id": "8ab704df",
   "metadata": {},
   "outputs": [],
   "source": [
    "%matplotlib widget\n",
    "#uncomment the next line if you want to generate the pdf (rerun kernel before exporting)\n",
    "#%matplotlib inline \n",
    "import matplotlib.pyplot as plt\n",
    "import numpy as np\n",
    "from synthetic import *\n",
    "\n",
    "t_start = 1850.0\n",
    "t_end = 2010.0\n",
    "t_samp = 1./12.\n",
    "\n",
    "# define synthetic time series\n",
    "mytimewindow = def_timewindow(t_start, t_end, t_samp)\n",
    "period = 10. # in yr\n",
    "amp = 1.\n",
    "phase = -2*np.pi*t_start/period\n",
    "mytseries = cos_tseries(mytimewindow, period, amp, phase)\n",
    "# plot it\n",
    "fig = plt.figure( figsize = (10, 4) ) #figsize can be adjusted to your needs\n",
    "ax = fig.add_subplot(111)\n",
    "ax.plot(mytimewindow, mytseries)\n",
    "ax.set_xlabel('year AD')\n",
    "ax.set_ylabel('signal')\n",
    "ax.set_xlim(t_start,t_end)\n",
    "ax.set_xticks(np.linspace(t_start, t_end, endpoint = True, num = int( (t_end - t_start)/10 + 1 ) ) ) \n",
    "# show the figure\n",
    "plt.show()\n"
   ]
  },
  {
   "cell_type": "markdown",
   "id": "13e2c6ee",
   "metadata": {},
   "source": [
    "2. Your turn now: Using the python functions at your disposal in the ${\\tt synthetic.py}$ module, create a synthetic timeseries spanning the [1850.0~AD-2010.0~AD] time window (with one point every month), comprising four harmonic components, of periods $(T_1,T_2,T_3,T_4)=(0.5,1.0,11.0,60.0)$~yr, respectively. You can arbitrarily set the amplitude $A_i$ and the phase $\\varphi_i$ of each of these components. The signal $s(t)$ so created reads $$\n",
    "        s(t) = \\sum_{i=1}^{i=4} s_i(t) = \\sum_{i=1}^{i=4} A_i \\cos \\left( 2 \\pi t / T_i +\\varphi_i \\right). \n",
    "        $$"
   ]
  },
  {
   "cell_type": "code",
   "execution_count": null,
   "id": "2c69f5c5",
   "metadata": {},
   "outputs": [],
   "source": [
    "# write your own code below\n",
    "#\n",
    "# Define your timeseries. I would suggest to use a name different from mytseries in the example above, to avoid a source of \n",
    "# confusion between the example and your own code\n",
    "#\n",
    "\n",
    "\n",
    "\n",
    "#Plot it\n",
    "\n",
    "\n",
    "#"
   ]
  },
  {
   "cell_type": "markdown",
   "id": "bed980d9-6c75-4bd9-b4f1-2ed615250f5a",
   "metadata": {},
   "source": [
    "2. We wish to perform the spectral analysis of $s(t)$ and therefore to compute its (discrete) Fourier transform. Let $\\widehat{s}(f)$ denote this transform, with $f$ the frequency (inverse of the period) - keeping in mind that the angular frequency $\\omega=2\\pi f$.To compute $\\widehat{s}$, we resort to python again, in particular to the ${\\tt fft.rfft}$ function. An example of its usage is given in the piece of code below, where the spectral analysis is performed on the harmonic example I gave above"
   ]
  },
  {
   "cell_type": "code",
   "execution_count": null,
   "id": "361a0a6f",
   "metadata": {},
   "outputs": [],
   "source": [
    "# compute its Fourier transform\n",
    "myshat = np.fft.rfft(mytseries) # \n",
    "# these are the associated frequencies (useful for subsequent plot)\n",
    "myfreq = np.fft.rfftfreq(len(mytseries),t_samp) # in year^{-1} \n",
    "# plot the timeseries and its power spectrum \n",
    "fig = plt.figure( figsize=(10,7) )\n",
    "#\n",
    "ax1 = fig.add_subplot(211)\n",
    "ax1.plot(mytimewindow, mytseries)\n",
    "ax1.set_xlabel('year AD')\n",
    "ax1.set_ylabel('signal')\n",
    "ax1.set_xlim(t_start, t_end)\n",
    "ax1.set_xticks(np.linspace(t_start, t_end, endpoint = True, num = int((t_end - t_start)/10 + 1 )))\n",
    "#\n",
    "ax2 = fig.add_subplot(212)\n",
    "ax2.loglog(myfreq, abs(myshat)**2)\n",
    "ax2.set_xlabel('frequency in yr$^{-1}$')\n",
    "ax2.set_ylabel(r'|$\\widehat{s}$|$^2$')\n",
    "# show the figure\n",
    "plt.show()\n"
   ]
  },
  {
   "cell_type": "markdown",
   "id": "82aed03b-a494-42a2-9ccd-4d2ff4bfb3e0",
   "metadata": {},
   "source": [
    "Your turn now: Adapt this example to represent the squared modulus of $\\widehat{s}(f)$"
   ]
  },
  {
   "cell_type": "code",
   "execution_count": null,
   "id": "923cf544",
   "metadata": {},
   "outputs": [],
   "source": [
    "#write your own code below\n",
    "#"
   ]
  },
  {
   "cell_type": "markdown",
   "id": "63921c63",
   "metadata": {},
   "source": [
    "3. Now let us get acquainted with the Butterworth filters provided by the ${\\tt signal}$ processing package of scientific python. The example below shows how to apply a bandpass filter, with corner periods equal to 5 and 15 yr, to the example timeseries I have been using so far. "
   ]
  },
  {
   "cell_type": "code",
   "execution_count": null,
   "id": "99051ad1",
   "metadata": {},
   "outputs": [],
   "source": [
    "from scipy import signal \n",
    "# define Butterworth filter properties\n",
    "#\n",
    "# The frequency band [w_low_cut,w_high_cut] is given as a fraction of the \n",
    "# Nyquist Frequency which is equal to half of the sampling frequency\n",
    "# \n",
    "T_long  = 15 # in yr\n",
    "T_short = 5  # in yr\n",
    "#\n",
    "f_samp = 1./t_samp\n",
    "f_nyq =  f_samp / 2\n",
    "#\n",
    "f_low_cut =  (1./T_long)  # in year^{-1}\n",
    "w_low_cut =  f_low_cut / f_nyq # angular frequency\n",
    "#\n",
    "f_high_cut = (1./T_short)  # in year^{-1}\n",
    "w_high_cut = f_high_cut / f_nyq          # angular frequency\n",
    "# define filter properties\n",
    "b,a = signal.butter(4, [w_low_cut,w_high_cut], 'band')\n",
    "# apply filter to signal (twice, to avoid phasing) \n",
    "recons = signal.filtfilt(b,a,mytseries)\n",
    "# compute its Fourier transform\n",
    "myreconshat = np.fft.rfft(recons)\n",
    "#\n",
    "# plot the timeseries and its power spectrum, as well as those\n",
    "# of the filtered signal \n",
    "fig = plt.figure( figsize = (10, 7) )\n",
    "#\n",
    "ax1 = fig.add_subplot(211)\n",
    "ax1.plot(mytimewindow, mytseries)\n",
    "ax1.plot(mytimewindow, recons)\n",
    "ax1.set_xlabel('year AD')\n",
    "ax1.set_ylabel('signal')\n",
    "ax1.set_xlim(t_start,t_end)\n",
    "ax1.set_xticks(np.linspace(t_start, t_end, endpoint = True, num = int( (t_end - t_start)/10 + 1 )) )\n",
    "#\n",
    "ax2 = fig.add_subplot(212)\n",
    "ax2.loglog(myfreq, abs(myshat)**2, label=\"original\")\n",
    "ax2.loglog(myfreq, abs(myreconshat)**2, label=\"filtered\")\n",
    "ax2.set_xlabel('frequency in yr$^{-1}$')\n",
    "ax2.set_ylabel(r'|$\\widehat{s}$|$^2$')\n",
    "ax2.legend()\n",
    "# show the figure\n",
    "plt.show()"
   ]
  },
  {
   "cell_type": "markdown",
   "id": "a3a8ca7e",
   "metadata": {},
   "source": [
    "Your turn now: extract in $s(t)$ the $11$-yr component. Plot the filtered signal against the original one, and compare as well its spectrum to the original one."
   ]
  },
  {
   "cell_type": "code",
   "execution_count": null,
   "id": "3369aa7e",
   "metadata": {},
   "outputs": [],
   "source": [
    "# Write your code below\n",
    "#\n",
    "#"
   ]
  },
  {
   "cell_type": "markdown",
   "id": "5c378c21",
   "metadata": {},
   "source": [
    "4. By looking at the manual page of ${\\tt scipy.signal.filtfilt}$, the default version of which we use, suggest a way of improving the reconstruction of the sought harmonic component. This improvement can follow from the artificial augmentation of the length of the timeseries (padding it with zeroes), which tends to mitigate spurious edge effects on the filtered signal."
   ]
  },
  {
   "cell_type": "code",
   "execution_count": null,
   "id": "910f4780",
   "metadata": {},
   "outputs": [],
   "source": [
    "# Write your answer here (code not necessarily needed)\n",
    "#"
   ]
  },
  {
   "cell_type": "markdown",
   "id": "e90d8bc8",
   "metadata": {},
   "source": [
    "## Part 2 - A real case: 78 years of geomagnetic measurements @ CLF\n",
    "\n",
    "CLF : Chambon-la-Forêt, where the French magnetic observatory is located since 1936. See e.g. [www.bcmt.fr](http://www.bcmt.fr). \n",
    "\n",
    "The file ${\\tt clf1936-2014.dat}$ contains the monthly means of the geomagnetic elements recorded at the CLF observatory. \n",
    "The header of the file looks like so\n",
    "~~~~\n",
    "# This file is provided by the database of the \"Bureau Central de   |\n",
    "# Magnetisme Terrestre\" (BCMT, France).                             |\n",
    "# Conditions of use: these data are for scientific/academic use.    |\n",
    "# Formula for computing non-reported elements:                      |\n",
    "# X=H*cos(D), Y=H*sin(D), tan(I)=Z/H                                |\n",
    "# D is expressed in minutes of arc.                                 |\n",
    "# 1-month values are computed from 24 monthly means of 1-hour       |\n",
    "# values.                                                           |\n",
    "# For any enquiry, please contact: bcmt@ipgp.fr                     |\n",
    "#DATE       TIME        DOY     CLFH      CLFD      CLFZ      CLFF  \n",
    "~~~~"
   ]
  },
  {
   "cell_type": "markdown",
   "id": "a84fa56e",
   "metadata": {},
   "source": [
    "1. The code below reads the file and and plots the fluctuations of the vertical component ($Z$) at the site between 1936.0 and 2015.0. "
   ]
  },
  {
   "cell_type": "code",
   "execution_count": null,
   "id": "771e1f4f",
   "metadata": {},
   "outputs": [],
   "source": [
    "import matplotlib.dates as dts\n",
    "import time\n",
    "\n",
    "datestr2num = lambda s: dts.datestr2num(s.decode('ascii'))\n",
    "#\n",
    "fname = 'clf1936-2014.dat'\n",
    "#\n",
    "#\n",
    "data = np.loadtxt(fname, usecols=(0,3,4,5,6), converters={0:datestr2num})\n",
    "#\n",
    "epoch = data[:,0]\n",
    "decl = data[:,2]/60. # declination expressed in degrees\n",
    "zcomp = data[:,3]\n",
    "#\n",
    "years = dts.YearLocator()   # every year\n",
    "months = dts.MonthLocator()  # every month\n",
    "yearsFmt = dts.DateFormatter('%Y') # format for a year\n",
    "#\n",
    "# Plot timeseries of Z\n",
    "fig = plt.figure(figsize=(8,5))\n",
    "ax = fig.add_subplot(111)\n",
    "ax.plot(epoch,zcomp,'k+')\n",
    "# format the ticks\n",
    "ax.xaxis.set_minor_locator(years)\n",
    "ax.xaxis.set_major_formatter(yearsFmt)\n",
    "datemin = dts.datestr2num('1936-01-01')\n",
    "datemax = dts.datestr2num('2016-01-01')\n",
    "ax.set_xlim(datemin, datemax)\n",
    "ax.set_xticks(np.arange(datemin,datemax,1826))\n",
    "ax.set_xlabel('year AD')\n",
    "ax.set_ylabel('$Z$ (nT)')\n",
    "fig.tight_layout()\n",
    "plt.show()"
   ]
  },
  {
   "cell_type": "markdown",
   "id": "2e2f049d",
   "metadata": {},
   "source": [
    "Write your own code to compute and plot $X(t)$ @ CLF, $X$ being the Northward component, whose connection with the horizontal component and the declination is given in the header above. "
   ]
  },
  {
   "cell_type": "code",
   "execution_count": null,
   "id": "41fa2672",
   "metadata": {},
   "outputs": [],
   "source": [
    "# your code below\n",
    "#"
   ]
  },
  {
   "cell_type": "markdown",
   "id": "340e1e62-e9f3-43bb-879b-ed68640d8211",
   "metadata": {},
   "source": [
    "2. Based on the expertise you gained in the first synthetic part of this lab, write a code that, in addition to plotting $X(t)$, computes $\\widehat{X}(f)$ and plots the power spectral density of $X$. It is recommended to have $X(t)$ and $|\\widehat{X}|^2(f)$ on the same plot (with two graphs). "
   ]
  },
  {
   "cell_type": "code",
   "execution_count": null,
   "id": "dec4566e",
   "metadata": {},
   "outputs": [],
   "source": [
    "#your code below\n",
    "#"
   ]
  },
  {
   "cell_type": "markdown",
   "id": "e6277b18",
   "metadata": {},
   "source": [
    "3. Analyze the spectrum so obtained. Are there any obvious peaks? Which periods do they correspond to? Can you make sense of them? "
   ]
  },
  {
   "cell_type": "raw",
   "id": "c2b83406",
   "metadata": {},
   "source": [
    "Your answer: "
   ]
  },
  {
   "cell_type": "markdown",
   "id": "a454f94f-872a-4947-a5a2-f127ed5ac6af",
   "metadata": {},
   "source": [
    "4. Write another piece of code to filter out the long-period component of $X(t)$, with periods greater than 15~years, say. Plot the original $X(t)$ and its filtered version $X'(t)$ on one graph, and the spectra of $|\\widehat{X}|^2(f)$ and $|\\widehat{X'}|^2(f)$ on a second graph (both graphs on the same plot). "
   ]
  },
  {
   "cell_type": "code",
   "execution_count": null,
   "id": "b59a2f07",
   "metadata": {},
   "outputs": [],
   "source": [
    "#your code below\n",
    "#"
   ]
  },
  {
   "cell_type": "markdown",
   "id": "e791c70f",
   "metadata": {},
   "source": [
    "5. The file ${\\tt SN.dat}$ contains monthly values of the sunspot number (a proxy for solar activity) between 1749 and 2016. Read it and plot it against $X'$ (one graph per signal, two graphs on the same plot), for that period of time during which there is data for both (1936--2015). "
   ]
  },
  {
   "cell_type": "code",
   "execution_count": null,
   "id": "4b39d8a8",
   "metadata": {},
   "outputs": [],
   "source": [
    "#your code below\n",
    "#"
   ]
  },
  {
   "cell_type": "markdown",
   "id": "c1056b2f",
   "metadata": {},
   "source": [
    "6. Is there a connection between the two? If yes, propose an interpretation. "
   ]
  },
  {
   "cell_type": "raw",
   "id": "ab1feb48",
   "metadata": {},
   "source": [
    "Your answer: "
   ]
  },
  {
   "cell_type": "markdown",
   "id": "9f0bee3d",
   "metadata": {},
   "source": [
    "**Bonus**: compute and plot the power spectrum density based on the entire sunspot number \n",
    "      timeseries."
   ]
  },
  {
   "cell_type": "code",
   "execution_count": null,
   "id": "44aea054",
   "metadata": {},
   "outputs": [],
   "source": [
    "#your code below"
   ]
  }
 ],
 "metadata": {
  "kernelspec": {
   "display_name": "Python 3",
   "language": "python",
   "name": "python3"
  },
  "language_info": {
   "codemirror_mode": {
    "name": "ipython",
    "version": 3
   },
   "file_extension": ".py",
   "mimetype": "text/x-python",
   "name": "python",
   "nbconvert_exporter": "python",
   "pygments_lexer": "ipython3",
   "version": "3.9.1"
  }
 },
 "nbformat": 4,
 "nbformat_minor": 5
}
